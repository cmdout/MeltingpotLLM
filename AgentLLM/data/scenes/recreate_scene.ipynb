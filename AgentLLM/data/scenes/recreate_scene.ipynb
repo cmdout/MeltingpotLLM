{
 "cells": [
  {
   "cell_type": "markdown",
   "metadata": {},
   "source": [
    "Fix the system and os paths to the main repository directory."
   ]
  },
  {
   "cell_type": "code",
   "execution_count": 12,
   "metadata": {},
   "source": [
    "import os\n",
    "import sys\n",
    "# Add the parent directory to sys.path\n",
    "sys.path.append(os.path.abspath('../../'))\n",
    "os.chdir(os.path.abspath('../../'))\n"
   ],
   "outputs": []
  },
  {
   "cell_type": "markdown",
   "metadata": {},
   "source": [
    "Requiered packages"
   ]
  },
  {
   "cell_type": "code",
   "execution_count": 13,
   "metadata": {},
   "source": [
    "import os\n",
    "import logging\n",
    "\n",
    "import chromadb\n",
    "import uuid\n",
    "from chromadb.utils import embedding_functions\n",
    "from utils.llm import CustomEmbeddingFunction\n",
    "\n",
    "from utils.files import load_config\n",
    "from utils.time import str_to_timestamp\n",
    "from utils.logging import CustomAdapter\n",
    "from dotenv import load_dotenv\n",
    "load_dotenv(override=True)"
   ],
   "outputs": []
  },
  {
   "cell_type": "markdown",
   "metadata": {},
   "source": [
    "# Parameters and Scene"
   ]
  },
  {
   "cell_type": "markdown",
   "metadata": {},
   "source": [
    "Here you are requiered to choose the exact simulation you want to recreate. Simulation should be one from logs saved simulations, it should have inside the ltm_databes.\n",
    "\n",
    "Then you have to choose the exact step of the simulation. From that step the simulation will be recreated. It means, the exactly state of:\n",
    "- Map\n",
    "- Agents\n",
    "- Long term memory databases\n",
    "- Short term memory of agents"
   ]
  },
  {
   "cell_type": "code",
   "execution_count": 14,
   "metadata": {},
   "source": [
    "simulation_file = \"2024-02-21--16-57-53\"\n",
    "\n",
    "step_to_start = 100"
   ],
   "outputs": []
  },
  {
   "cell_type": "code",
   "execution_count": 15,
   "metadata": {},
   "source": [
    "\n",
    "scene_name = f\"scene_{simulation_file}___step{step_to_start}\"\n",
    "#scene_name = f\"scene_personalized_name\"\n",
    "\n",
    "## Configure paths\n",
    "logs_path = \"logs\"\n",
    "sim_path = os.path.join(logs_path, simulation_file)\n",
    "\n",
    "scene_track_file = os.path.join(sim_path, \"scene_track.txt\")\n",
    "\n",
    "\n",
    "scenes_path = \"data/scenes\"\n",
    "scene_path = os.path.join(scenes_path, scene_name)\n",
    "\n",
    "# Create the scene directory\n",
    "os.makedirs(scene_path, exist_ok=True)\n",
    "\n"
   ],
   "outputs": []
  },
  {
   "cell_type": "markdown",
   "metadata": {},
   "source": [
    "### Save scene track information"
   ]
  },
  {
   "cell_type": "code",
   "execution_count": 16,
   "metadata": {},
   "source": [
    "# Read the scene track file\n",
    "with open(scene_track_file, \"r\") as f:\n",
    "    scene_track = f.readlines()\n",
    "    initial_track = scene_track[0]\n",
    "    step_track = scene_track[step_to_start-1]\n",
    "\n",
    "letter_orientations = { 0: \"N\",\n",
    "                        1: \"E\",\n",
    "                        2: \"S\",\n",
    "                        3: \"W\" }\n",
    "\n",
    "# Parse to a dictionary\n",
    "step_track = eval(step_track)\n",
    "initial_track = eval(initial_track)\n",
    "\n",
    "# Write a file called state_map.txt with the state map\n",
    "def save_map(step_track, scene_path):\n",
    "    state_map_file = os.path.join(scene_path, \"map_to_load.txt\")\n",
    "    with open(state_map_file, \"w\") as f:\n",
    "        f.write(str(step_track[\"current_map\"]))\n",
    "\n",
    "def save_agents_status(step_track, scene_path):\n",
    "    agents_status = step_track[\"agents_status\"]\n",
    "    agents_status_file = os.path.join(scene_path, \"agents_status.txt\")\n",
    "    with open(agents_status_file, \"w\") as f:\n",
    "        f.write(str(agents_status))\n",
    "\n",
    "def get_apples_to_desappear(current_map, initial_map):\n",
    "    apples_to_desappear = []\n",
    "    current_map = current_map.split(\"\\n\")\n",
    "    initial_map = initial_map.split(\"\\n\")\n",
    "    for i in range(len(current_map)):\n",
    "        for j in range(len(current_map[0])):\n",
    "            if current_map[i][j] != 'A' and initial_map[i][j] == 'A':\n",
    "                apples_to_desappear.append([i, j])\n",
    "    return apples_to_desappear\n",
    "\n",
    "def write_lua_variables(step_track, initial_track, scene_path):\n",
    "    variables_file = os.path.join(scene_path, \"variables.txt\")\n",
    "    \n",
    "    agents_status = step_track[\"agents_status\"]\n",
    "    \n",
    "    startPositions, startOrientations = [], []\n",
    "    applesToDesappear = []\n",
    "    \n",
    "    for agent, status in agents_status.items():\n",
    "        startPositions.append(list(status[\"global_position\"]))\n",
    "        startOrientations.append(letter_orientations[status[\"orientation\"]])\n",
    "\n",
    "    applesToDesappear = get_apples_to_desappear(step_track['current_map'], initial_track['current_map'])\n",
    "    \n",
    "    variables = {\"startPositions\": startPositions,\n",
    "                 \"startOrientations\": startOrientations,\n",
    "                 \"applesToDesappear\": applesToDesappear}\n",
    "    \n",
    "    with open(variables_file, \"w\") as f:\n",
    "        f.write(str(variables))\n",
    "    \n",
    "save_map(step_track, scene_path)\n",
    "save_agents_status(step_track, scene_path)\n",
    "write_lua_variables(step_track, initial_track, scene_path)\n",
    "step_track"
   ],
   "outputs": []
  },
  {
   "cell_type": "code",
   "execution_count": null,
   "metadata": {},
   "source": [],
   "outputs": []
  },
  {
   "cell_type": "markdown",
   "metadata": {},
   "source": [
    "## Filter and save the memory databases until the step "
   ]
  },
  {
   "cell_type": "code",
   "execution_count": null,
   "metadata": {},
   "source": [
    "data_base_folder = os.path.join(sim_path, \"ltm_database\")\n",
    "agents = os.listdir(data_base_folder)\n",
    "date_format  = load_config()['date_format']\n",
    "\n",
    "# Create the ltm_database folder on the scene if it does not exist\n",
    "ltm_scene_db_folder = os.path.join(scene_path, \"ltm_database\")\n",
    "os.makedirs(ltm_scene_db_folder, exist_ok=True)"
   ],
   "outputs": []
  },
  {
   "cell_type": "code",
   "execution_count": null,
   "metadata": {},
   "source": [
    "def retrieve_data_for_agent_with_filter(database_source, agent_name, step_track):\n",
    "    \n",
    "    \"\"\"\n",
    "    Retrieve collections from the database for a specific agent with a filter\n",
    "    The filter is a dictionary with the metadata to filter.\n",
    "    We are filtering by \"timestamp\", and retrieving all the collections that have a timestamp less than the one specified in the filter.\n",
    "    \n",
    "    Args:\n",
    "        database_source: The database source\n",
    "        agent_name: The agent name\n",
    "        filter: The filter\n",
    "    Returns:\n",
    "        A list with the collections\n",
    "    \"\"\"\n",
    "    db_path = os.path.join(database_source, agent_name, \"long_term_memory.db\")\n",
    "    \n",
    "    chroma_client = chromadb.PersistentClient(path=db_path)\n",
    "    collection = chroma_client.get_or_create_collection(agent_name)\n",
    "    \n",
    "    try:\n",
    "        timestamp_to_filt = str_to_timestamp(step_track[\"memory_time\"], date_format)\n",
    "        print(f\"Timestamp to filter for agent {agent_name} is {timestamp_to_filt}\")\n",
    "        # Now we filter by timestamp\n",
    "        filter_timestamp = {'timestamp':{\"$lte\": timestamp_to_filt}}\n",
    "        data_filtered = collection.get(where=filter_timestamp)\n",
    "            \n",
    "        return data_filtered\n",
    "    except:\n",
    "        print(f\"Error with agent {agent_name}, no data found for this step {step_to_start} and time {step_track['memory_time']}\")\n",
    "        return []\n",
    "\n",
    "# Test for Juan\n",
    "agent_name = \"Juan\"\n",
    "data_filtered = retrieve_data_for_agent_with_filter(data_base_folder, agent_name, step_track)\n",
    "data_filtered"
   ],
   "outputs": []
  },
  {
   "cell_type": "code",
   "execution_count": null,
   "metadata": {},
   "source": [
    "def persist_data_for_agent (database_destination, agent_name, data):\n",
    "    \"\"\"\n",
    "    Persist data in the database for a specific agent\n",
    "    \n",
    "    Args:\n",
    "        database_destination: The database destination\n",
    "        agent_name: The agent name\n",
    "        data: The data to persist\n",
    "    Returns:\n",
    "        None\n",
    "    \"\"\"\n",
    "    db_path = os.path.join(database_destination, agent_name, \"long_term_memory.db\")\n",
    "    \n",
    "    chroma_client = chromadb.PersistentClient(path=db_path)\n",
    "    #openai_ef = CustomEmbeddingFunction()\n",
    "    #chroma_client.delete_collection(agent_name)\n",
    "        # Delete collection if it already exists\n",
    "    if agent_name in [c.name for c in chroma_client.list_collections()]:\n",
    "        chroma_client.delete_collection(agent_name)\n",
    "\n",
    "    collection = chroma_client.get_or_create_collection(agent_name)\n",
    "    #for doc, meta, id in zip(data['documents'], data['metadatas'], data['ids']):\n",
    "    #    collection.add(documents=[doc], metadatas=meta, ids=id) \n",
    "    collection.add(documents=data['documents'], metadatas=data['metadatas'], ids=data['ids'])\n",
    "    \n",
    "    return\n",
    "\n",
    "# Persist the data for Juan\n",
    "agent_name = \"Juan\"\n",
    "persist_data_for_agent(ltm_scene_db_folder, agent_name, data_filtered)\n",
    "\n",
    "# Test for Juan\n",
    "agent_name = \"Juan\"\n",
    "data_saved = retrieve_data_for_agent_with_filter(ltm_scene_db_folder, agent_name, step_track)\n",
    "len_saved, len_filtered = len(data_saved['ids']), len(data_filtered['ids'])\n",
    "print(f'data saved is len {len_saved} and should be {len_filtered}')"
   ],
   "outputs": []
  },
  {
   "cell_type": "code",
   "execution_count": null,
   "metadata": {},
   "source": [
    "# Save the data for all the agents\n",
    "for agent_name in agents:\n",
    "    data_filtered = retrieve_data_for_agent_with_filter(data_base_folder, agent_name, step_track)\n",
    "    persist_data_for_agent(ltm_scene_db_folder, agent_name, data_filtered)\n",
    "    print(f\"Data saved for agent {agent_name}\")\n",
    "    \n",
    "    # Test\n",
    "    data_saved = retrieve_data_for_agent_with_filter(ltm_scene_db_folder, agent_name, step_track)\n",
    "    len_saved, len_filtered = len(data_saved['ids']), len(data_filtered['ids'])\n",
    "    print(f'data saved is len {len_saved} and should be {len_filtered}')\n"
   ],
   "outputs": []
  },
  {
   "cell_type": "markdown",
   "metadata": {},
   "source": [
    "## Persist stm memory of agents"
   ]
  },
  {
   "cell_type": "code",
   "execution_count": null,
   "metadata": {},
   "source": [
    "def persist_stm_agents( step_max:str):\n",
    "    \"\"\"\n",
    "    Reads a txt file that contains stm for all agents for diferent steps in ascending order\n",
    "    and persists the stm for all the agents in the scene folder on a stm_memories.txt \n",
    "    file.\n",
    "    \"\"\"\n",
    "    \n",
    "    stm_file = os.path.join(sim_path, \"short_term_memories.txt\")\n",
    "    stm_scene_file = os.path.join(scene_path, \"short_term_memories.txt\")\n",
    "    \n",
    "    with open(stm_file, \"r\") as f:\n",
    "        stm_memories = f.readlines()\n",
    "    \n",
    "    stm_dicts = []\n",
    "    for stm in stm_memories:\n",
    "        stm_dicts.append(eval(stm))\n",
    "        \n",
    "    stm_scene = [x for x in stm_dicts if int(x['steps_count']) <= int(step_max)]\n",
    "    stm_scene = stm_scene[-1]\n",
    "    with open(stm_scene_file, \"w\") as f:\n",
    "        f.write(str(stm_scene))\n",
    "        \n",
    "    return stm_scene\n",
    "\n",
    "persist_stm_agents(step_to_start)"
   ],
   "outputs": []
  },
  {
   "cell_type": "markdown",
   "metadata": {},
   "source": [
    "### We save a video of the simulation until the step"
   ]
  },
  {
   "cell_type": "code",
   "execution_count": null,
   "metadata": {},
   "source": [
    "\n",
    "## Adapt the visual record\n",
    "# Get the images from the simulation_folder + \"world\", then take images that are in the range of the steps, the format is \"number.png\"\n",
    "# Create a video with the images and save it in the scene_folder\n",
    "\n",
    "import cv2\n",
    "import numpy as np\n",
    "\n",
    "\n",
    "image_folder = sim_path + \"/world/\"\n",
    "video_path = scene_path + \"/scene.avi\"\n",
    "\n",
    "\n",
    "images = [img for img in os.listdir(image_folder) if img.endswith(\".png\") or img.endswith(\".jpg\")]\n",
    "\n",
    "images.sort(key=lambda x: int(x.split('.')[0]))  # Asumiendo que el nombre del archivo es el \"step\" y no tiene puntos adicionales\n",
    "\n",
    "out = cv2.VideoWriter(video_path, cv2.VideoWriter_fourcc(*'DIVX'), 1/1, (1600, 1200))\n",
    "\n",
    "for image in images:\n",
    "    if 0 <= int(image.split(\".\")[0]) <= step_to_start:\n",
    "        img_path = image_folder + image\n",
    "        img = cv2.imread(img_path)\n",
    "        img_resized = cv2.resize(img, (1600, 1200), interpolation=cv2.INTER_NEAREST)  # Redimensiona la imagen a la resolución deseada\n",
    "        height, _, _ = img_resized.shape\n",
    "        font = cv2.FONT_HERSHEY_SIMPLEX\n",
    "        text = \"Step: \" + image.split(\".\")[0]\n",
    "        cv2.putText(img_resized, text, (12, int(height * 0.035)), font, 1, (255, 255, 255), 2, cv2.LINE_AA)\n",
    "        out.write(img_resized)\n",
    "        \n",
    "    \n",
    "\n",
    "out.release()"
   ],
   "outputs": []
  }
 ],
 "metadata": {
  "kernelspec": {
   "display_name": "envMP",
   "language": "python",
   "name": "python3"
  },
  "language_info": {
   "codemirror_mode": {
    "name": "ipython",
    "version": 3
   },
   "file_extension": ".py",
   "mimetype": "text/x-python",
   "name": "python",
   "nbconvert_exporter": "python",
   "pygments_lexer": "ipython3",
   "version": "3.10.13"
  }
 },
 "nbformat": 4,
 "nbformat_minor": 2
}
